{
  "nbformat": 4,
  "nbformat_minor": 0,
  "metadata": {
    "colab": {
      "provenance": [],
      "include_colab_link": true
    },
    "kernelspec": {
      "name": "python3",
      "display_name": "Python 3"
    },
    "language_info": {
      "name": "python"
    }
  },
  "cells": [
    {
      "cell_type": "markdown",
      "metadata": {
        "id": "view-in-github",
        "colab_type": "text"
      },
      "source": [
        "<a href=\"https://colab.research.google.com/github/AndresVillotaVillota/Proyecto/blob/main/01_Exploraci%C3%B3n.ipynb\" target=\"_parent\"><img src=\"https://colab.research.google.com/assets/colab-badge.svg\" alt=\"Open In Colab\"/></a>"
      ]
    },
    {
      "cell_type": "code",
      "execution_count": null,
      "metadata": {
        "colab": {
          "base_uri": "https://localhost:8080/"
        },
        "id": "f9ed-hQLmsfo",
        "outputId": "d10a55a2-343c-48da-b4c3-1c9763921b14"
      },
      "outputs": [
        {
          "output_type": "stream",
          "name": "stdout",
          "text": [
            "Archive:  train.csv.zip\n",
            "  inflating: train.csv               \n"
          ]
        }
      ],
      "source": [
        "!unzip train.csv.zip"
      ]
    },
    {
      "cell_type": "code",
      "source": [
        "!unzip test.csv.zip"
      ],
      "metadata": {
        "colab": {
          "base_uri": "https://localhost:8080/"
        },
        "id": "6xq0OiMypdcj",
        "outputId": "b99df1f5-6fbb-4463-de50-19fa144a0fa4"
      },
      "execution_count": null,
      "outputs": [
        {
          "output_type": "stream",
          "name": "stdout",
          "text": [
            "Archive:  test.csv.zip\n",
            "  inflating: test.csv                \n"
          ]
        }
      ]
    },
    {
      "cell_type": "code",
      "source": [
        "import pandas as pd\n",
        "z = pd.read_csv('train.csv')\n",
        "z.head()"
      ],
      "metadata": {
        "colab": {
          "base_uri": "https://localhost:8080/",
          "height": 313
        },
        "id": "C4f-JO8fqoQB",
        "outputId": "fb101982-79b5-40da-c44f-24be8a16299c"
      },
      "execution_count": null,
      "outputs": [
        {
          "output_type": "execute_result",
          "data": {
            "text/plain": [
              "       ID  PERIODO         ESTU_PRGM_ACADEMICO ESTU_PRGM_DEPARTAMENTO  \\\n",
              "0  904256    20212                  ENFERMERIA                 BOGOTÁ   \n",
              "1  645256    20212                     DERECHO              ATLANTICO   \n",
              "2  308367    20203       MERCADEO Y PUBLICIDAD                 BOGOTÁ   \n",
              "3  470353    20195  ADMINISTRACION DE EMPRESAS              SANTANDER   \n",
              "4  989032    20212                  PSICOLOGIA              ANTIOQUIA   \n",
              "\n",
              "             ESTU_VALORMATRICULAUNIVERSIDAD ESTU_HORASSEMANATRABAJA  \\\n",
              "0  Entre 5.5 millones y menos de 7 millones       Menos de 10 horas   \n",
              "1  Entre 2.5 millones y menos de 4 millones                       0   \n",
              "2  Entre 2.5 millones y menos de 4 millones         Más de 30 horas   \n",
              "3  Entre 4 millones y menos de 5.5 millones                       0   \n",
              "4  Entre 2.5 millones y menos de 4 millones     Entre 21 y 30 horas   \n",
              "\n",
              "  FAMI_ESTRATOVIVIENDA FAMI_TIENEINTERNET                 FAMI_EDUCACIONPADRE  \\\n",
              "0            Estrato 3                 Si    Técnica o tecnológica incompleta   \n",
              "1            Estrato 3                 No      Técnica o tecnológica completa   \n",
              "2            Estrato 3                 Si  Secundaria (Bachillerato) completa   \n",
              "3            Estrato 4                 Si                             No sabe   \n",
              "4            Estrato 3                 Si                   Primaria completa   \n",
              "\n",
              "  FAMI_TIENELAVADORA FAMI_TIENEAUTOMOVIL ESTU_PRIVADO_LIBERTAD  \\\n",
              "0                 Si                  Si                     N   \n",
              "1                 Si                  No                     N   \n",
              "2                 Si                  No                     N   \n",
              "3                 Si                  No                     N   \n",
              "4                 Si                  Si                     N   \n",
              "\n",
              "  ESTU_PAGOMATRICULAPROPIO FAMI_TIENECOMPUTADOR FAMI_TIENEINTERNET.1  \\\n",
              "0                       No                   Si                   Si   \n",
              "1                       No                   Si                   No   \n",
              "2                       No                   No                   Si   \n",
              "3                       No                   Si                   Si   \n",
              "4                       No                   Si                   Si   \n",
              "\n",
              "                  FAMI_EDUCACIONMADRE RENDIMIENTO_GLOBAL  \n",
              "0                           Postgrado         medio-alto  \n",
              "1    Técnica o tecnológica incompleta               bajo  \n",
              "2  Secundaria (Bachillerato) completa               bajo  \n",
              "3  Secundaria (Bachillerato) completa               alto  \n",
              "4                   Primaria completa         medio-bajo  "
            ],
            "text/html": [
              "\n",
              "  <div id=\"df-5f6ba142-ea6d-410f-8b0a-bc72b63afd93\" class=\"colab-df-container\">\n",
              "    <div>\n",
              "<style scoped>\n",
              "    .dataframe tbody tr th:only-of-type {\n",
              "        vertical-align: middle;\n",
              "    }\n",
              "\n",
              "    .dataframe tbody tr th {\n",
              "        vertical-align: top;\n",
              "    }\n",
              "\n",
              "    .dataframe thead th {\n",
              "        text-align: right;\n",
              "    }\n",
              "</style>\n",
              "<table border=\"1\" class=\"dataframe\">\n",
              "  <thead>\n",
              "    <tr style=\"text-align: right;\">\n",
              "      <th></th>\n",
              "      <th>ID</th>\n",
              "      <th>PERIODO</th>\n",
              "      <th>ESTU_PRGM_ACADEMICO</th>\n",
              "      <th>ESTU_PRGM_DEPARTAMENTO</th>\n",
              "      <th>ESTU_VALORMATRICULAUNIVERSIDAD</th>\n",
              "      <th>ESTU_HORASSEMANATRABAJA</th>\n",
              "      <th>FAMI_ESTRATOVIVIENDA</th>\n",
              "      <th>FAMI_TIENEINTERNET</th>\n",
              "      <th>FAMI_EDUCACIONPADRE</th>\n",
              "      <th>FAMI_TIENELAVADORA</th>\n",
              "      <th>FAMI_TIENEAUTOMOVIL</th>\n",
              "      <th>ESTU_PRIVADO_LIBERTAD</th>\n",
              "      <th>ESTU_PAGOMATRICULAPROPIO</th>\n",
              "      <th>FAMI_TIENECOMPUTADOR</th>\n",
              "      <th>FAMI_TIENEINTERNET.1</th>\n",
              "      <th>FAMI_EDUCACIONMADRE</th>\n",
              "      <th>RENDIMIENTO_GLOBAL</th>\n",
              "    </tr>\n",
              "  </thead>\n",
              "  <tbody>\n",
              "    <tr>\n",
              "      <th>0</th>\n",
              "      <td>904256</td>\n",
              "      <td>20212</td>\n",
              "      <td>ENFERMERIA</td>\n",
              "      <td>BOGOTÁ</td>\n",
              "      <td>Entre 5.5 millones y menos de 7 millones</td>\n",
              "      <td>Menos de 10 horas</td>\n",
              "      <td>Estrato 3</td>\n",
              "      <td>Si</td>\n",
              "      <td>Técnica o tecnológica incompleta</td>\n",
              "      <td>Si</td>\n",
              "      <td>Si</td>\n",
              "      <td>N</td>\n",
              "      <td>No</td>\n",
              "      <td>Si</td>\n",
              "      <td>Si</td>\n",
              "      <td>Postgrado</td>\n",
              "      <td>medio-alto</td>\n",
              "    </tr>\n",
              "    <tr>\n",
              "      <th>1</th>\n",
              "      <td>645256</td>\n",
              "      <td>20212</td>\n",
              "      <td>DERECHO</td>\n",
              "      <td>ATLANTICO</td>\n",
              "      <td>Entre 2.5 millones y menos de 4 millones</td>\n",
              "      <td>0</td>\n",
              "      <td>Estrato 3</td>\n",
              "      <td>No</td>\n",
              "      <td>Técnica o tecnológica completa</td>\n",
              "      <td>Si</td>\n",
              "      <td>No</td>\n",
              "      <td>N</td>\n",
              "      <td>No</td>\n",
              "      <td>Si</td>\n",
              "      <td>No</td>\n",
              "      <td>Técnica o tecnológica incompleta</td>\n",
              "      <td>bajo</td>\n",
              "    </tr>\n",
              "    <tr>\n",
              "      <th>2</th>\n",
              "      <td>308367</td>\n",
              "      <td>20203</td>\n",
              "      <td>MERCADEO Y PUBLICIDAD</td>\n",
              "      <td>BOGOTÁ</td>\n",
              "      <td>Entre 2.5 millones y menos de 4 millones</td>\n",
              "      <td>Más de 30 horas</td>\n",
              "      <td>Estrato 3</td>\n",
              "      <td>Si</td>\n",
              "      <td>Secundaria (Bachillerato) completa</td>\n",
              "      <td>Si</td>\n",
              "      <td>No</td>\n",
              "      <td>N</td>\n",
              "      <td>No</td>\n",
              "      <td>No</td>\n",
              "      <td>Si</td>\n",
              "      <td>Secundaria (Bachillerato) completa</td>\n",
              "      <td>bajo</td>\n",
              "    </tr>\n",
              "    <tr>\n",
              "      <th>3</th>\n",
              "      <td>470353</td>\n",
              "      <td>20195</td>\n",
              "      <td>ADMINISTRACION DE EMPRESAS</td>\n",
              "      <td>SANTANDER</td>\n",
              "      <td>Entre 4 millones y menos de 5.5 millones</td>\n",
              "      <td>0</td>\n",
              "      <td>Estrato 4</td>\n",
              "      <td>Si</td>\n",
              "      <td>No sabe</td>\n",
              "      <td>Si</td>\n",
              "      <td>No</td>\n",
              "      <td>N</td>\n",
              "      <td>No</td>\n",
              "      <td>Si</td>\n",
              "      <td>Si</td>\n",
              "      <td>Secundaria (Bachillerato) completa</td>\n",
              "      <td>alto</td>\n",
              "    </tr>\n",
              "    <tr>\n",
              "      <th>4</th>\n",
              "      <td>989032</td>\n",
              "      <td>20212</td>\n",
              "      <td>PSICOLOGIA</td>\n",
              "      <td>ANTIOQUIA</td>\n",
              "      <td>Entre 2.5 millones y menos de 4 millones</td>\n",
              "      <td>Entre 21 y 30 horas</td>\n",
              "      <td>Estrato 3</td>\n",
              "      <td>Si</td>\n",
              "      <td>Primaria completa</td>\n",
              "      <td>Si</td>\n",
              "      <td>Si</td>\n",
              "      <td>N</td>\n",
              "      <td>No</td>\n",
              "      <td>Si</td>\n",
              "      <td>Si</td>\n",
              "      <td>Primaria completa</td>\n",
              "      <td>medio-bajo</td>\n",
              "    </tr>\n",
              "  </tbody>\n",
              "</table>\n",
              "</div>\n",
              "    <div class=\"colab-df-buttons\">\n",
              "\n",
              "  <div class=\"colab-df-container\">\n",
              "    <button class=\"colab-df-convert\" onclick=\"convertToInteractive('df-5f6ba142-ea6d-410f-8b0a-bc72b63afd93')\"\n",
              "            title=\"Convert this dataframe to an interactive table.\"\n",
              "            style=\"display:none;\">\n",
              "\n",
              "  <svg xmlns=\"http://www.w3.org/2000/svg\" height=\"24px\" viewBox=\"0 -960 960 960\">\n",
              "    <path d=\"M120-120v-720h720v720H120Zm60-500h600v-160H180v160Zm220 220h160v-160H400v160Zm0 220h160v-160H400v160ZM180-400h160v-160H180v160Zm440 0h160v-160H620v160ZM180-180h160v-160H180v160Zm440 0h160v-160H620v160Z\"/>\n",
              "  </svg>\n",
              "    </button>\n",
              "\n",
              "  <style>\n",
              "    .colab-df-container {\n",
              "      display:flex;\n",
              "      gap: 12px;\n",
              "    }\n",
              "\n",
              "    .colab-df-convert {\n",
              "      background-color: #E8F0FE;\n",
              "      border: none;\n",
              "      border-radius: 50%;\n",
              "      cursor: pointer;\n",
              "      display: none;\n",
              "      fill: #1967D2;\n",
              "      height: 32px;\n",
              "      padding: 0 0 0 0;\n",
              "      width: 32px;\n",
              "    }\n",
              "\n",
              "    .colab-df-convert:hover {\n",
              "      background-color: #E2EBFA;\n",
              "      box-shadow: 0px 1px 2px rgba(60, 64, 67, 0.3), 0px 1px 3px 1px rgba(60, 64, 67, 0.15);\n",
              "      fill: #174EA6;\n",
              "    }\n",
              "\n",
              "    .colab-df-buttons div {\n",
              "      margin-bottom: 4px;\n",
              "    }\n",
              "\n",
              "    [theme=dark] .colab-df-convert {\n",
              "      background-color: #3B4455;\n",
              "      fill: #D2E3FC;\n",
              "    }\n",
              "\n",
              "    [theme=dark] .colab-df-convert:hover {\n",
              "      background-color: #434B5C;\n",
              "      box-shadow: 0px 1px 3px 1px rgba(0, 0, 0, 0.15);\n",
              "      filter: drop-shadow(0px 1px 2px rgba(0, 0, 0, 0.3));\n",
              "      fill: #FFFFFF;\n",
              "    }\n",
              "  </style>\n",
              "\n",
              "    <script>\n",
              "      const buttonEl =\n",
              "        document.querySelector('#df-5f6ba142-ea6d-410f-8b0a-bc72b63afd93 button.colab-df-convert');\n",
              "      buttonEl.style.display =\n",
              "        google.colab.kernel.accessAllowed ? 'block' : 'none';\n",
              "\n",
              "      async function convertToInteractive(key) {\n",
              "        const element = document.querySelector('#df-5f6ba142-ea6d-410f-8b0a-bc72b63afd93');\n",
              "        const dataTable =\n",
              "          await google.colab.kernel.invokeFunction('convertToInteractive',\n",
              "                                                    [key], {});\n",
              "        if (!dataTable) return;\n",
              "\n",
              "        const docLinkHtml = 'Like what you see? Visit the ' +\n",
              "          '<a target=\"_blank\" href=https://colab.research.google.com/notebooks/data_table.ipynb>data table notebook</a>'\n",
              "          + ' to learn more about interactive tables.';\n",
              "        element.innerHTML = '';\n",
              "        dataTable['output_type'] = 'display_data';\n",
              "        await google.colab.output.renderOutput(dataTable, element);\n",
              "        const docLink = document.createElement('div');\n",
              "        docLink.innerHTML = docLinkHtml;\n",
              "        element.appendChild(docLink);\n",
              "      }\n",
              "    </script>\n",
              "  </div>\n",
              "\n",
              "\n",
              "<div id=\"df-fb6549f7-2f37-4b7b-af14-d85b9ac8be1f\">\n",
              "  <button class=\"colab-df-quickchart\" onclick=\"quickchart('df-fb6549f7-2f37-4b7b-af14-d85b9ac8be1f')\"\n",
              "            title=\"Suggest charts\"\n",
              "            style=\"display:none;\">\n",
              "\n",
              "<svg xmlns=\"http://www.w3.org/2000/svg\" height=\"24px\"viewBox=\"0 0 24 24\"\n",
              "     width=\"24px\">\n",
              "    <g>\n",
              "        <path d=\"M19 3H5c-1.1 0-2 .9-2 2v14c0 1.1.9 2 2 2h14c1.1 0 2-.9 2-2V5c0-1.1-.9-2-2-2zM9 17H7v-7h2v7zm4 0h-2V7h2v10zm4 0h-2v-4h2v4z\"/>\n",
              "    </g>\n",
              "</svg>\n",
              "  </button>\n",
              "\n",
              "<style>\n",
              "  .colab-df-quickchart {\n",
              "      --bg-color: #E8F0FE;\n",
              "      --fill-color: #1967D2;\n",
              "      --hover-bg-color: #E2EBFA;\n",
              "      --hover-fill-color: #174EA6;\n",
              "      --disabled-fill-color: #AAA;\n",
              "      --disabled-bg-color: #DDD;\n",
              "  }\n",
              "\n",
              "  [theme=dark] .colab-df-quickchart {\n",
              "      --bg-color: #3B4455;\n",
              "      --fill-color: #D2E3FC;\n",
              "      --hover-bg-color: #434B5C;\n",
              "      --hover-fill-color: #FFFFFF;\n",
              "      --disabled-bg-color: #3B4455;\n",
              "      --disabled-fill-color: #666;\n",
              "  }\n",
              "\n",
              "  .colab-df-quickchart {\n",
              "    background-color: var(--bg-color);\n",
              "    border: none;\n",
              "    border-radius: 50%;\n",
              "    cursor: pointer;\n",
              "    display: none;\n",
              "    fill: var(--fill-color);\n",
              "    height: 32px;\n",
              "    padding: 0;\n",
              "    width: 32px;\n",
              "  }\n",
              "\n",
              "  .colab-df-quickchart:hover {\n",
              "    background-color: var(--hover-bg-color);\n",
              "    box-shadow: 0 1px 2px rgba(60, 64, 67, 0.3), 0 1px 3px 1px rgba(60, 64, 67, 0.15);\n",
              "    fill: var(--button-hover-fill-color);\n",
              "  }\n",
              "\n",
              "  .colab-df-quickchart-complete:disabled,\n",
              "  .colab-df-quickchart-complete:disabled:hover {\n",
              "    background-color: var(--disabled-bg-color);\n",
              "    fill: var(--disabled-fill-color);\n",
              "    box-shadow: none;\n",
              "  }\n",
              "\n",
              "  .colab-df-spinner {\n",
              "    border: 2px solid var(--fill-color);\n",
              "    border-color: transparent;\n",
              "    border-bottom-color: var(--fill-color);\n",
              "    animation:\n",
              "      spin 1s steps(1) infinite;\n",
              "  }\n",
              "\n",
              "  @keyframes spin {\n",
              "    0% {\n",
              "      border-color: transparent;\n",
              "      border-bottom-color: var(--fill-color);\n",
              "      border-left-color: var(--fill-color);\n",
              "    }\n",
              "    20% {\n",
              "      border-color: transparent;\n",
              "      border-left-color: var(--fill-color);\n",
              "      border-top-color: var(--fill-color);\n",
              "    }\n",
              "    30% {\n",
              "      border-color: transparent;\n",
              "      border-left-color: var(--fill-color);\n",
              "      border-top-color: var(--fill-color);\n",
              "      border-right-color: var(--fill-color);\n",
              "    }\n",
              "    40% {\n",
              "      border-color: transparent;\n",
              "      border-right-color: var(--fill-color);\n",
              "      border-top-color: var(--fill-color);\n",
              "    }\n",
              "    60% {\n",
              "      border-color: transparent;\n",
              "      border-right-color: var(--fill-color);\n",
              "    }\n",
              "    80% {\n",
              "      border-color: transparent;\n",
              "      border-right-color: var(--fill-color);\n",
              "      border-bottom-color: var(--fill-color);\n",
              "    }\n",
              "    90% {\n",
              "      border-color: transparent;\n",
              "      border-bottom-color: var(--fill-color);\n",
              "    }\n",
              "  }\n",
              "</style>\n",
              "\n",
              "  <script>\n",
              "    async function quickchart(key) {\n",
              "      const quickchartButtonEl =\n",
              "        document.querySelector('#' + key + ' button');\n",
              "      quickchartButtonEl.disabled = true;  // To prevent multiple clicks.\n",
              "      quickchartButtonEl.classList.add('colab-df-spinner');\n",
              "      try {\n",
              "        const charts = await google.colab.kernel.invokeFunction(\n",
              "            'suggestCharts', [key], {});\n",
              "      } catch (error) {\n",
              "        console.error('Error during call to suggestCharts:', error);\n",
              "      }\n",
              "      quickchartButtonEl.classList.remove('colab-df-spinner');\n",
              "      quickchartButtonEl.classList.add('colab-df-quickchart-complete');\n",
              "    }\n",
              "    (() => {\n",
              "      let quickchartButtonEl =\n",
              "        document.querySelector('#df-fb6549f7-2f37-4b7b-af14-d85b9ac8be1f button');\n",
              "      quickchartButtonEl.style.display =\n",
              "        google.colab.kernel.accessAllowed ? 'block' : 'none';\n",
              "    })();\n",
              "  </script>\n",
              "</div>\n",
              "    </div>\n",
              "  </div>\n"
            ],
            "application/vnd.google.colaboratory.intrinsic+json": {
              "type": "dataframe",
              "variable_name": "z"
            }
          },
          "metadata": {},
          "execution_count": 5
        }
      ]
    },
    {
      "cell_type": "code",
      "source": [
        "z.ESTU_HORASSEMANATRABAJA.value_counts()"
      ],
      "metadata": {
        "colab": {
          "base_uri": "https://localhost:8080/"
        },
        "id": "tKhfcE-wrEpI",
        "outputId": "8c1306f8-6885-4611-bf05-3a5ae5875905"
      },
      "execution_count": null,
      "outputs": [
        {
          "output_type": "execute_result",
          "data": {
            "text/plain": [
              "Más de 30 horas        249352\n",
              "0                      116550\n",
              "Entre 11 y 20 horas    115857\n",
              "Entre 21 y 30 horas     92693\n",
              "Menos de 10 horas       87191\n",
              "Name: ESTU_HORASSEMANATRABAJA, dtype: int64"
            ]
          },
          "metadata": {},
          "execution_count": 6
        }
      ]
    },
    {
      "cell_type": "code",
      "source": [
        "import matplotlib.pyplot as plt"
      ],
      "metadata": {
        "id": "QqEQt6qHsRJx"
      },
      "execution_count": null,
      "outputs": []
    },
    {
      "cell_type": "code",
      "source": [
        "horas_trabajo = z.ESTU_HORASSEMANATRABAJA.value_counts()\n",
        "horas_trabajo.plot.bar()\n",
        "plt.title(\"Horas trabajadas semanalmente\")\n",
        "plt.ylabel(\"Estudiantes\")"
      ],
      "metadata": {
        "colab": {
          "base_uri": "https://localhost:8080/",
          "height": 592
        },
        "id": "zEndJLWmtv2O",
        "outputId": "ca06d85a-1245-44c3-a524-6284bea93b06"
      },
      "execution_count": null,
      "outputs": [
        {
          "output_type": "execute_result",
          "data": {
            "text/plain": [
              "Text(0, 0.5, 'Estudiantes')"
            ]
          },
          "metadata": {},
          "execution_count": 37
        },
        {
          "output_type": "display_data",
          "data": {
            "text/plain": [
              "<Figure size 640x480 with 1 Axes>"
            ],
            "image/png": "[encoded data removed]"
          },
          "metadata": {}
        }
      ]
    },
    {
      "cell_type": "code",
      "source": [
        "z.FAMI_TIENECOMPUTADOR.value_counts()"
      ],
      "metadata": {
        "colab": {
          "base_uri": "https://localhost:8080/"
        },
        "id": "G2CswhmGu-pV",
        "outputId": "1f62e387-fbbe-471d-bdf7-363299c13ae4"
      },
      "execution_count": null,
      "outputs": [
        {
          "output_type": "execute_result",
          "data": {
            "text/plain": [
              "Si    597670\n",
              "No     56727\n",
              "Name: FAMI_TIENECOMPUTADOR, dtype: int64"
            ]
          },
          "metadata": {},
          "execution_count": 22
        }
      ]
    },
    {
      "cell_type": "code",
      "source": [
        "computador = z.FAMI_TIENECOMPUTADOR.value_counts()\n",
        "computador.plot.bar()\n",
        "plt.title(\"Tiene computador\")\n",
        "plt.ylabel(\"Estudiantes\")"
      ],
      "metadata": {
        "colab": {
          "base_uri": "https://localhost:8080/",
          "height": 474
        },
        "id": "bVZ_3b9yvF-j",
        "outputId": "189c550c-9253-4d7b-dfd6-e1756c66368e"
      },
      "execution_count": null,
      "outputs": [
        {
          "output_type": "execute_result",
          "data": {
            "text/plain": [
              "Text(0, 0.5, 'Estudiantes')"
            ]
          },
          "metadata": {},
          "execution_count": 36
        },
        {
          "output_type": "display_data",
          "data": {
            "text/plain": [
              "<Figure size 640x480 with 1 Axes>"
            ],
            "image/png": "[encoded data removed]"
          },
          "metadata": {}
        }
      ]
    },
    {
      "cell_type": "code",
      "source": [
        "x = pd.read_csv('test.csv')\n",
        "x.head()"
      ],
      "metadata": {
        "colab": {
          "base_uri": "https://localhost:8080/",
          "height": 347
        },
        "id": "w3vb6J0Hvmon",
        "outputId": "cfe64d86-7a18-4df7-a871-6e1a531a5900"
      },
      "execution_count": null,
      "outputs": [
        {
          "output_type": "execute_result",
          "data": {
            "text/plain": [
              "       ID  PERIODO                     ESTU_PRGM_ACADEMICO  \\\n",
              "0  550236    20183                          TRABAJO SOCIAL   \n",
              "1   98545    20203  ADMINISTRACION COMERCIAL Y DE MERCADEO   \n",
              "2  499179    20212                  INGENIERIA MECATRONICA   \n",
              "3  782980    20195                      CONTADURIA PUBLICA   \n",
              "4  785185    20212              ADMINISTRACION DE EMPRESAS   \n",
              "\n",
              "  ESTU_PRGM_DEPARTAMENTO            ESTU_VALORMATRICULAUNIVERSIDAD  \\\n",
              "0                BOLIVAR                          Menos de 500 mil   \n",
              "1              ANTIOQUIA  Entre 2.5 millones y menos de 4 millones   \n",
              "2                 BOGOTÁ    Entre 1 millón y menos de 2.5 millones   \n",
              "3                  SUCRE    Entre 1 millón y menos de 2.5 millones   \n",
              "4              ATLANTICO  Entre 2.5 millones y menos de 4 millones   \n",
              "\n",
              "  ESTU_HORASSEMANATRABAJA FAMI_ESTRATOVIVIENDA FAMI_TIENEINTERNET  \\\n",
              "0       Menos de 10 horas            Estrato 3                 Si   \n",
              "1     Entre 21 y 30 horas            Estrato 2                 Si   \n",
              "2                       0            Estrato 3                 Si   \n",
              "3     Entre 21 y 30 horas            Estrato 1                 No   \n",
              "4     Entre 11 y 20 horas            Estrato 2                 Si   \n",
              "\n",
              "                    FAMI_EDUCACIONPADRE FAMI_TIENELAVADORA  \\\n",
              "0        Técnica o tecnológica completa                 Si   \n",
              "1    Secundaria (Bachillerato) completa                 Si   \n",
              "2  Secundaria (Bachillerato) incompleta                 Si   \n",
              "3                   Primaria incompleta                 Si   \n",
              "4    Secundaria (Bachillerato) completa                 Si   \n",
              "\n",
              "  FAMI_TIENEAUTOMOVIL ESTU_PRIVADO_LIBERTAD ESTU_PAGOMATRICULAPROPIO  \\\n",
              "0                  No                     N                       Si   \n",
              "1                  No                     N                       No   \n",
              "2                  No                     N                       No   \n",
              "3                  No                     N                       No   \n",
              "4                  No                     N                       No   \n",
              "\n",
              "  FAMI_TIENECOMPUTADOR FAMI_TIENEINTERNET.1  \\\n",
              "0                   Si                   Si   \n",
              "1                   Si                   Si   \n",
              "2                   Si                   Si   \n",
              "3                   No                   No   \n",
              "4                   Si                   Si   \n",
              "\n",
              "                  FAMI_EDUCACIONMADRE  \n",
              "0                   Primaria completa  \n",
              "1      Técnica o tecnológica completa  \n",
              "2  Secundaria (Bachillerato) completa  \n",
              "3                 Primaria incompleta  \n",
              "4  Secundaria (Bachillerato) completa  "
            ],
            "text/html": [
              "\n",
              "  <div id=\"df-39e0d380-54c1-46c6-9a77-d82fc5af79a1\" class=\"colab-df-container\">\n",
              "    <div>\n",
              "<style scoped>\n",
              "    .dataframe tbody tr th:only-of-type {\n",
              "        vertical-align: middle;\n",
              "    }\n",
              "\n",
              "    .dataframe tbody tr th {\n",
              "        vertical-align: top;\n",
              "    }\n",
              "\n",
              "    .dataframe thead th {\n",
              "        text-align: right;\n",
              "    }\n",
              "</style>\n",
              "<table border=\"1\" class=\"dataframe\">\n",
              "  <thead>\n",
              "    <tr style=\"text-align: right;\">\n",
              "      <th></th>\n",
              "      <th>ID</th>\n",
              "      <th>PERIODO</th>\n",
              "      <th>ESTU_PRGM_ACADEMICO</th>\n",
              "      <th>ESTU_PRGM_DEPARTAMENTO</th>\n",
              "      <th>ESTU_VALORMATRICULAUNIVERSIDAD</th>\n",
              "      <th>ESTU_HORASSEMANATRABAJA</th>\n",
              "      <th>FAMI_ESTRATOVIVIENDA</th>\n",
              "      <th>FAMI_TIENEINTERNET</th>\n",
              "      <th>FAMI_EDUCACIONPADRE</th>\n",
              "      <th>FAMI_TIENELAVADORA</th>\n",
              "      <th>FAMI_TIENEAUTOMOVIL</th>\n",
              "      <th>ESTU_PRIVADO_LIBERTAD</th>\n",
              "      <th>ESTU_PAGOMATRICULAPROPIO</th>\n",
              "      <th>FAMI_TIENECOMPUTADOR</th>\n",
              "      <th>FAMI_TIENEINTERNET.1</th>\n",
              "      <th>FAMI_EDUCACIONMADRE</th>\n",
              "    </tr>\n",
              "  </thead>\n",
              "  <tbody>\n",
              "    <tr>\n",
              "      <th>0</th>\n",
              "      <td>550236</td>\n",
              "      <td>20183</td>\n",
              "      <td>TRABAJO SOCIAL</td>\n",
              "      <td>BOLIVAR</td>\n",
              "      <td>Menos de 500 mil</td>\n",
              "      <td>Menos de 10 horas</td>\n",
              "      <td>Estrato 3</td>\n",
              "      <td>Si</td>\n",
              "      <td>Técnica o tecnológica completa</td>\n",
              "      <td>Si</td>\n",
              "      <td>No</td>\n",
              "      <td>N</td>\n",
              "      <td>Si</td>\n",
              "      <td>Si</td>\n",
              "      <td>Si</td>\n",
              "      <td>Primaria completa</td>\n",
              "    </tr>\n",
              "    <tr>\n",
              "      <th>1</th>\n",
              "      <td>98545</td>\n",
              "      <td>20203</td>\n",
              "      <td>ADMINISTRACION COMERCIAL Y DE MERCADEO</td>\n",
              "      <td>ANTIOQUIA</td>\n",
              "      <td>Entre 2.5 millones y menos de 4 millones</td>\n",
              "      <td>Entre 21 y 30 horas</td>\n",
              "      <td>Estrato 2</td>\n",
              "      <td>Si</td>\n",
              "      <td>Secundaria (Bachillerato) completa</td>\n",
              "      <td>Si</td>\n",
              "      <td>No</td>\n",
              "      <td>N</td>\n",
              "      <td>No</td>\n",
              "      <td>Si</td>\n",
              "      <td>Si</td>\n",
              "      <td>Técnica o tecnológica completa</td>\n",
              "    </tr>\n",
              "    <tr>\n",
              "      <th>2</th>\n",
              "      <td>499179</td>\n",
              "      <td>20212</td>\n",
              "      <td>INGENIERIA MECATRONICA</td>\n",
              "      <td>BOGOTÁ</td>\n",
              "      <td>Entre 1 millón y menos de 2.5 millones</td>\n",
              "      <td>0</td>\n",
              "      <td>Estrato 3</td>\n",
              "      <td>Si</td>\n",
              "      <td>Secundaria (Bachillerato) incompleta</td>\n",
              "      <td>Si</td>\n",
              "      <td>No</td>\n",
              "      <td>N</td>\n",
              "      <td>No</td>\n",
              "      <td>Si</td>\n",
              "      <td>Si</td>\n",
              "      <td>Secundaria (Bachillerato) completa</td>\n",
              "    </tr>\n",
              "    <tr>\n",
              "      <th>3</th>\n",
              "      <td>782980</td>\n",
              "      <td>20195</td>\n",
              "      <td>CONTADURIA PUBLICA</td>\n",
              "      <td>SUCRE</td>\n",
              "      <td>Entre 1 millón y menos de 2.5 millones</td>\n",
              "      <td>Entre 21 y 30 horas</td>\n",
              "      <td>Estrato 1</td>\n",
              "      <td>No</td>\n",
              "      <td>Primaria incompleta</td>\n",
              "      <td>Si</td>\n",
              "      <td>No</td>\n",
              "      <td>N</td>\n",
              "      <td>No</td>\n",
              "      <td>No</td>\n",
              "      <td>No</td>\n",
              "      <td>Primaria incompleta</td>\n",
              "    </tr>\n",
              "    <tr>\n",
              "      <th>4</th>\n",
              "      <td>785185</td>\n",
              "      <td>20212</td>\n",
              "      <td>ADMINISTRACION DE EMPRESAS</td>\n",
              "      <td>ATLANTICO</td>\n",
              "      <td>Entre 2.5 millones y menos de 4 millones</td>\n",
              "      <td>Entre 11 y 20 horas</td>\n",
              "      <td>Estrato 2</td>\n",
              "      <td>Si</td>\n",
              "      <td>Secundaria (Bachillerato) completa</td>\n",
              "      <td>Si</td>\n",
              "      <td>No</td>\n",
              "      <td>N</td>\n",
              "      <td>No</td>\n",
              "      <td>Si</td>\n",
              "      <td>Si</td>\n",
              "      <td>Secundaria (Bachillerato) completa</td>\n",
              "    </tr>\n",
              "  </tbody>\n",
              "</table>\n",
              "</div>\n",
              "    <div class=\"colab-df-buttons\">\n",
              "\n",
              "  <div class=\"colab-df-container\">\n",
              "    <button class=\"colab-df-convert\" onclick=\"convertToInteractive('df-39e0d380-54c1-46c6-9a77-d82fc5af79a1')\"\n",
              "            title=\"Convert this dataframe to an interactive table.\"\n",
              "            style=\"display:none;\">\n",
              "\n",
              "  <svg xmlns=\"http://www.w3.org/2000/svg\" height=\"24px\" viewBox=\"0 -960 960 960\">\n",
              "    <path d=\"M120-120v-720h720v720H120Zm60-500h600v-160H180v160Zm220 220h160v-160H400v160Zm0 220h160v-160H400v160ZM180-400h160v-160H180v160Zm440 0h160v-160H620v160ZM180-180h160v-160H180v160Zm440 0h160v-160H620v160Z\"/>\n",
              "  </svg>\n",
              "    </button>\n",
              "\n",
              "  <style>\n",
              "    .colab-df-container {\n",
              "      display:flex;\n",
              "      gap: 12px;\n",
              "    }\n",
              "\n",
              "    .colab-df-convert {\n",
              "      background-color: #E8F0FE;\n",
              "      border: none;\n",
              "      border-radius: 50%;\n",
              "      cursor: pointer;\n",
              "      display: none;\n",
              "      fill: #1967D2;\n",
              "      height: 32px;\n",
              "      padding: 0 0 0 0;\n",
              "      width: 32px;\n",
              "    }\n",
              "\n",
              "    .colab-df-convert:hover {\n",
              "      background-color: #E2EBFA;\n",
              "      box-shadow: 0px 1px 2px rgba(60, 64, 67, 0.3), 0px 1px 3px 1px rgba(60, 64, 67, 0.15);\n",
              "      fill: #174EA6;\n",
              "    }\n",
              "\n",
              "    .colab-df-buttons div {\n",
              "      margin-bottom: 4px;\n",
              "    }\n",
              "\n",
              "    [theme=dark] .colab-df-convert {\n",
              "      background-color: #3B4455;\n",
              "      fill: #D2E3FC;\n",
              "    }\n",
              "\n",
              "    [theme=dark] .colab-df-convert:hover {\n",
              "      background-color: #434B5C;\n",
              "      box-shadow: 0px 1px 3px 1px rgba(0, 0, 0, 0.15);\n",
              "      filter: drop-shadow(0px 1px 2px rgba(0, 0, 0, 0.3));\n",
              "      fill: #FFFFFF;\n",
              "    }\n",
              "  </style>\n",
              "\n",
              "    <script>\n",
              "      const buttonEl =\n",
              "        document.querySelector('#df-39e0d380-54c1-46c6-9a77-d82fc5af79a1 button.colab-df-convert');\n",
              "      buttonEl.style.display =\n",
              "        google.colab.kernel.accessAllowed ? 'block' : 'none';\n",
              "\n",
              "      async function convertToInteractive(key) {\n",
              "        const element = document.querySelector('#df-39e0d380-54c1-46c6-9a77-d82fc5af79a1');\n",
              "        const dataTable =\n",
              "          await google.colab.kernel.invokeFunction('convertToInteractive',\n",
              "                                                    [key], {});\n",
              "        if (!dataTable) return;\n",
              "\n",
              "        const docLinkHtml = 'Like what you see? Visit the ' +\n",
              "          '<a target=\"_blank\" href=https://colab.research.google.com/notebooks/data_table.ipynb>data table notebook</a>'\n",
              "          + ' to learn more about interactive tables.';\n",
              "        element.innerHTML = '';\n",
              "        dataTable['output_type'] = 'display_data';\n",
              "        await google.colab.output.renderOutput(dataTable, element);\n",
              "        const docLink = document.createElement('div');\n",
              "        docLink.innerHTML = docLinkHtml;\n",
              "        element.appendChild(docLink);\n",
              "      }\n",
              "    </script>\n",
              "  </div>\n",
              "\n",
              "\n",
              "<div id=\"df-0b073a74-3e67-46dc-9836-d3c180aef803\">\n",
              "  <button class=\"colab-df-quickchart\" onclick=\"quickchart('df-0b073a74-3e67-46dc-9836-d3c180aef803')\"\n",
              "            title=\"Suggest charts\"\n",
              "            style=\"display:none;\">\n",
              "\n",
              "<svg xmlns=\"http://www.w3.org/2000/svg\" height=\"24px\"viewBox=\"0 0 24 24\"\n",
              "     width=\"24px\">\n",
              "    <g>\n",
              "        <path d=\"M19 3H5c-1.1 0-2 .9-2 2v14c0 1.1.9 2 2 2h14c1.1 0 2-.9 2-2V5c0-1.1-.9-2-2-2zM9 17H7v-7h2v7zm4 0h-2V7h2v10zm4 0h-2v-4h2v4z\"/>\n",
              "    </g>\n",
              "</svg>\n",
              "  </button>\n",
              "\n",
              "<style>\n",
              "  .colab-df-quickchart {\n",
              "      --bg-color: #E8F0FE;\n",
              "      --fill-color: #1967D2;\n",
              "      --hover-bg-color: #E2EBFA;\n",
              "      --hover-fill-color: #174EA6;\n",
              "      --disabled-fill-color: #AAA;\n",
              "      --disabled-bg-color: #DDD;\n",
              "  }\n",
              "\n",
              "  [theme=dark] .colab-df-quickchart {\n",
              "      --bg-color: #3B4455;\n",
              "      --fill-color: #D2E3FC;\n",
              "      --hover-bg-color: #434B5C;\n",
              "      --hover-fill-color: #FFFFFF;\n",
              "      --disabled-bg-color: #3B4455;\n",
              "      --disabled-fill-color: #666;\n",
              "  }\n",
              "\n",
              "  .colab-df-quickchart {\n",
              "    background-color: var(--bg-color);\n",
              "    border: none;\n",
              "    border-radius: 50%;\n",
              "    cursor: pointer;\n",
              "    display: none;\n",
              "    fill: var(--fill-color);\n",
              "    height: 32px;\n",
              "    padding: 0;\n",
              "    width: 32px;\n",
              "  }\n",
              "\n",
              "  .colab-df-quickchart:hover {\n",
              "    background-color: var(--hover-bg-color);\n",
              "    box-shadow: 0 1px 2px rgba(60, 64, 67, 0.3), 0 1px 3px 1px rgba(60, 64, 67, 0.15);\n",
              "    fill: var(--button-hover-fill-color);\n",
              "  }\n",
              "\n",
              "  .colab-df-quickchart-complete:disabled,\n",
              "  .colab-df-quickchart-complete:disabled:hover {\n",
              "    background-color: var(--disabled-bg-color);\n",
              "    fill: var(--disabled-fill-color);\n",
              "    box-shadow: none;\n",
              "  }\n",
              "\n",
              "  .colab-df-spinner {\n",
              "    border: 2px solid var(--fill-color);\n",
              "    border-color: transparent;\n",
              "    border-bottom-color: var(--fill-color);\n",
              "    animation:\n",
              "      spin 1s steps(1) infinite;\n",
              "  }\n",
              "\n",
              "  @keyframes spin {\n",
              "    0% {\n",
              "      border-color: transparent;\n",
              "      border-bottom-color: var(--fill-color);\n",
              "      border-left-color: var(--fill-color);\n",
              "    }\n",
              "    20% {\n",
              "      border-color: transparent;\n",
              "      border-left-color: var(--fill-color);\n",
              "      border-top-color: var(--fill-color);\n",
              "    }\n",
              "    30% {\n",
              "      border-color: transparent;\n",
              "      border-left-color: var(--fill-color);\n",
              "      border-top-color: var(--fill-color);\n",
              "      border-right-color: var(--fill-color);\n",
              "    }\n",
              "    40% {\n",
              "      border-color: transparent;\n",
              "      border-right-color: var(--fill-color);\n",
              "      border-top-color: var(--fill-color);\n",
              "    }\n",
              "    60% {\n",
              "      border-color: transparent;\n",
              "      border-right-color: var(--fill-color);\n",
              "    }\n",
              "    80% {\n",
              "      border-color: transparent;\n",
              "      border-right-color: var(--fill-color);\n",
              "      border-bottom-color: var(--fill-color);\n",
              "    }\n",
              "    90% {\n",
              "      border-color: transparent;\n",
              "      border-bottom-color: var(--fill-color);\n",
              "    }\n",
              "  }\n",
              "</style>\n",
              "\n",
              "  <script>\n",
              "    async function quickchart(key) {\n",
              "      const quickchartButtonEl =\n",
              "        document.querySelector('#' + key + ' button');\n",
              "      quickchartButtonEl.disabled = true;  // To prevent multiple clicks.\n",
              "      quickchartButtonEl.classList.add('colab-df-spinner');\n",
              "      try {\n",
              "        const charts = await google.colab.kernel.invokeFunction(\n",
              "            'suggestCharts', [key], {});\n",
              "      } catch (error) {\n",
              "        console.error('Error during call to suggestCharts:', error);\n",
              "      }\n",
              "      quickchartButtonEl.classList.remove('colab-df-spinner');\n",
              "      quickchartButtonEl.classList.add('colab-df-quickchart-complete');\n",
              "    }\n",
              "    (() => {\n",
              "      let quickchartButtonEl =\n",
              "        document.querySelector('#df-0b073a74-3e67-46dc-9836-d3c180aef803 button');\n",
              "      quickchartButtonEl.style.display =\n",
              "        google.colab.kernel.accessAllowed ? 'block' : 'none';\n",
              "    })();\n",
              "  </script>\n",
              "</div>\n",
              "    </div>\n",
              "  </div>\n"
            ],
            "application/vnd.google.colaboratory.intrinsic+json": {
              "type": "dataframe",
              "variable_name": "x"
            }
          },
          "metadata": {},
          "execution_count": 27
        }
      ]
    },
    {
      "cell_type": "code",
      "source": [
        "x.FAMI_ESTRATOVIVIENDA.value_counts()"
      ],
      "metadata": {
        "colab": {
          "base_uri": "https://localhost:8080/"
        },
        "id": "6mY8hZ9bvtD2",
        "outputId": "9401ca15-55c9-419f-8336-c96ec471558a"
      },
      "execution_count": null,
      "outputs": [
        {
          "output_type": "execute_result",
          "data": {
            "text/plain": [
              "Estrato 2      99288\n",
              "Estrato 3      90719\n",
              "Estrato 1      48092\n",
              "Estrato 4      27823\n",
              "Estrato 5      10194\n",
              "Estrato 6       5451\n",
              "Sin Estrato     1424\n",
              "Name: FAMI_ESTRATOVIVIENDA, dtype: int64"
            ]
          },
          "metadata": {},
          "execution_count": 28
        }
      ]
    },
    {
      "cell_type": "code",
      "source": [
        "estrato = x.FAMI_ESTRATOVIVIENDA.value_counts()\n",
        "estrato.plot.bar()\n",
        "plt.title(\"Estrato\")\n",
        "plt.ylabel(\"Estudiantes\")"
      ],
      "metadata": {
        "colab": {
          "base_uri": "https://localhost:8080/",
          "height": 531
        },
        "id": "bj6zquwivy-X",
        "outputId": "0571bffc-716c-49a7-bda4-497356acb627"
      },
      "execution_count": null,
      "outputs": [
        {
          "output_type": "execute_result",
          "data": {
            "text/plain": [
              "Text(0, 0.5, 'Estudiantes')"
            ]
          },
          "metadata": {},
          "execution_count": 35
        },
        {
          "output_type": "display_data",
          "data": {
            "text/plain": [
              "<Figure size 640x480 with 1 Axes>"
            ],
            "image/png": "[encoded data removed]"
          },
          "metadata": {}
        }
      ]
    },
    {
      "cell_type": "code",
      "source": [
        "x.FAMI_TIENEINTERNET.value_counts()"
      ],
      "metadata": {
        "colab": {
          "base_uri": "https://localhost:8080/"
        },
        "id": "b8ZkIN-FwETP",
        "outputId": "b659d6c8-4f6a-4d0b-a7ec-053486cb8655"
      },
      "execution_count": null,
      "outputs": [
        {
          "output_type": "execute_result",
          "data": {
            "text/plain": [
              "Si    254075\n",
              "No     31172\n",
              "Name: FAMI_TIENEINTERNET, dtype: int64"
            ]
          },
          "metadata": {},
          "execution_count": 31
        }
      ]
    },
    {
      "cell_type": "code",
      "source": [
        "internet = x.FAMI_TIENEINTERNET.value_counts()\n",
        "internet.plot.bar()\n",
        "plt.title(\"Familia con acceso a Internet\")\n",
        "plt.ylabel(\"Estudiantes\")"
      ],
      "metadata": {
        "colab": {
          "base_uri": "https://localhost:8080/",
          "height": 474
        },
        "id": "nAMGd9RIwLKV",
        "outputId": "bb02c769-94c6-41b1-8e8a-fb691e15c657"
      },
      "execution_count": null,
      "outputs": [
        {
          "output_type": "execute_result",
          "data": {
            "text/plain": [
              "Text(0, 0.5, '# estudiantes')"
            ]
          },
          "metadata": {},
          "execution_count": 34
        },
        {
          "output_type": "display_data",
          "data": {
            "text/plain": [
              "<Figure size 640x480 with 1 Axes>"
            ],
            "image/png": "[encoded data removed]"
          },
          "metadata": {}
        }
      ]
    }
  ]
}